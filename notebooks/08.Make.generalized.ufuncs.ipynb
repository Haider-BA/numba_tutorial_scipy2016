{
 "cells": [
  {
   "cell_type": "markdown",
   "metadata": {},
   "source": [
    "## Generalized ufuncs"
   ]
  },
  {
   "cell_type": "markdown",
   "metadata": {},
   "source": [
    "We've just seen how to make our own ufuncs using `vectorize`, but what if we need something that can operate on an arbitrary number of elements in an input array?  \n",
    "\n",
    "Enter `guvectorize`.  \n",
    "\n",
    "There are several important differences between `vectorize` and `guvectorize` that bear close examination.  Let's take a look at a few simple examples."
   ]
  },
  {
   "cell_type": "code",
   "execution_count": null,
   "metadata": {
    "collapsed": true
   },
   "outputs": [],
   "source": [
    "import numpy\n",
    "from numba import guvectorize"
   ]
  },
  {
   "cell_type": "code",
   "execution_count": null,
   "metadata": {
    "collapsed": false
   },
   "outputs": [],
   "source": [
    "@guvectorize(['(int64[:], int64, int64[:])'], '(n),()->(n)')\n",
    "def g(x, y, res):\n",
    "    for i in range(x.shape[0]):\n",
    "        res[i] = x[i] + y"
   ]
  },
  {
   "cell_type": "markdown",
   "metadata": {},
   "source": [
    "* Declaration of input/output layouts\n",
    "* No return statements"
   ]
  },
  {
   "cell_type": "code",
   "execution_count": null,
   "metadata": {
    "collapsed": false
   },
   "outputs": [],
   "source": [
    "x = numpy.arange(10)\n",
    "res = numpy.empty_like(x)"
   ]
  },
  {
   "cell_type": "code",
   "execution_count": null,
   "metadata": {
    "collapsed": false
   },
   "outputs": [],
   "source": [
    "g(x, 5, res)"
   ]
  },
  {
   "cell_type": "code",
   "execution_count": null,
   "metadata": {
    "collapsed": false
   },
   "outputs": [],
   "source": [
    "res"
   ]
  },
  {
   "cell_type": "code",
   "execution_count": null,
   "metadata": {
    "collapsed": false
   },
   "outputs": [],
   "source": [
    "@guvectorize(['float64[:,:], float64[:,:], float64[:,:]'], \n",
    "            '(m,n),(n,p)->(n,p)')\n",
    "def matmul(A, B, C):\n",
    "    m, n = A.shape\n",
    "    n, p = B.shape\n",
    "    for i in range(m):\n",
    "        for j in range(p):\n",
    "            C[i, j] = 0\n",
    "            for k in range(n):\n",
    "                C[i, j] += A[i, k] * B[k, j]"
   ]
  },
  {
   "cell_type": "code",
   "execution_count": null,
   "metadata": {
    "collapsed": true
   },
   "outputs": [],
   "source": [
    "a = numpy.random.random((500, 500))"
   ]
  },
  {
   "cell_type": "code",
   "execution_count": null,
   "metadata": {
    "collapsed": false
   },
   "outputs": [],
   "source": [
    "%timeit matmul(a, a, numpy.empty_like(a))"
   ]
  },
  {
   "cell_type": "code",
   "execution_count": null,
   "metadata": {
    "collapsed": false
   },
   "outputs": [],
   "source": [
    "%timeit a @ a"
   ]
  },
  {
   "cell_type": "markdown",
   "metadata": {},
   "source": [
    "## [Exercise: Cheating input/output layouts](./exercises/08.GUVectorize.Exercises.ipynb#Exercise:-Cheating-input/output-layouts)"
   ]
  },
  {
   "cell_type": "code",
   "execution_count": null,
   "metadata": {
    "collapsed": false
   },
   "outputs": [],
   "source": [
    "# %load snippets/guvectorize/cheatio.py"
   ]
  },
  {
   "cell_type": "markdown",
   "metadata": {},
   "source": [
    "## [Exercise: Multigrid Restriction](./exercises/08.GUVectorize.Exercises.ipynb#Exercise:-Multigrid-Restriction)"
   ]
  },
  {
   "cell_type": "markdown",
   "metadata": {},
   "source": [
    "In 2D, the full weighting restriction operator is given as\n",
    "\n",
    "\\begin{align}\n",
    "v_{(i,j),c} &=\\frac{1}{16} \\left(v_{(2i-1,2j-1),f} +v_{(2i-1,2j+1),f} +v_{(2i+1,2j-1),f}  +v_{(2i+1,2j+1),f} \\right)\\notag \\\\\n",
    "&\\ + \\frac{1}{8} \\left(v_{(2i,2j-1),f} + v_{(2i,2j+1),f} +v_{(2i-1,2j),f}  +v_{(2i+1,2j),f} \\right) \\\\\n",
    "&\\ + \\frac{1}{4} v_{(2i,2j),f} \\\\\n",
    "& \\texttt{ for } \\left\\lbrace 1 \\le i,j \\le N_{x,c}-2 \\right.\n",
    "\\end{align}\n"
   ]
  },
  {
   "cell_type": "code",
   "execution_count": null,
   "metadata": {
    "collapsed": false
   },
   "outputs": [],
   "source": [
    "# %load snippets/guvectorize/restriction.py"
   ]
  },
  {
   "cell_type": "code",
   "execution_count": null,
   "metadata": {
    "collapsed": false
   },
   "outputs": [],
   "source": [
    "fine = numpy.arange(100).reshape(10,10)\n",
    "coarse = numpy.zeros((5, 5))\n",
    "end = restrict_2d_gvec(fine, numpy.empty(coarse.shape[0]), coarse)\n",
    "end"
   ]
  },
  {
   "cell_type": "code",
   "execution_count": null,
   "metadata": {
    "collapsed": true
   },
   "outputs": [],
   "source": [
    "from matplotlib import pyplot, cm\n",
    "%matplotlib inline"
   ]
  },
  {
   "cell_type": "code",
   "execution_count": null,
   "metadata": {
    "collapsed": true
   },
   "outputs": [],
   "source": [
    "from matplotlib import cbook"
   ]
  },
  {
   "cell_type": "code",
   "execution_count": null,
   "metadata": {
    "collapsed": false
   },
   "outputs": [],
   "source": [
    "filename = cbook.get_sample_data('jacksboro_fault_dem.npz', asfileobj=False)\n",
    "with numpy.load(filename) as dem:\n",
    "    z = dem['elevation']"
   ]
  },
  {
   "cell_type": "code",
   "execution_count": null,
   "metadata": {
    "collapsed": false
   },
   "outputs": [],
   "source": [
    "z = z[:,:344]"
   ]
  },
  {
   "cell_type": "code",
   "execution_count": null,
   "metadata": {
    "collapsed": false
   },
   "outputs": [],
   "source": [
    "z = numpy.float32(z)\n",
    "z.dtype"
   ]
  },
  {
   "cell_type": "code",
   "execution_count": null,
   "metadata": {
    "collapsed": true
   },
   "outputs": [],
   "source": [
    "zorig = z.copy()"
   ]
  },
  {
   "cell_type": "code",
   "execution_count": null,
   "metadata": {
    "collapsed": false
   },
   "outputs": [],
   "source": [
    "%%timeit -r 5\n",
    "y = numpy.zeros_like(z[::2,::2])\n",
    "restrict_2d_gvec(z, numpy.empty(y.shape[0]), y)"
   ]
  },
  {
   "cell_type": "code",
   "execution_count": null,
   "metadata": {
    "collapsed": false
   },
   "outputs": [],
   "source": [
    "pyplot.figure(figsize=(10,10))\n",
    "pyplot.imshow(z, interpolation='none', cmap=cm.viridis)\n",
    "pyplot.colorbar();"
   ]
  },
  {
   "cell_type": "code",
   "execution_count": null,
   "metadata": {
    "collapsed": false,
    "scrolled": false
   },
   "outputs": [],
   "source": [
    "pyplot.figure(figsize=(10,10))\n",
    "y = numpy.copy(z[::2,::2])\n",
    "restrict_2d_gvec(z, y, y)\n",
    "pyplot.imshow(y, interpolation='none', cmap=cm.viridis)\n",
    "pyplot.colorbar()\n",
    "z = y.copy()"
   ]
  },
  {
   "cell_type": "markdown",
   "metadata": {},
   "source": [
    "### We can destroy information!  What now?"
   ]
  },
  {
   "cell_type": "markdown",
   "metadata": {},
   "source": [
    "## [Exercise: Interpolation in 2D](./exercises/08.GUVectorize.Exercises.ipynb#Exercise:-Multigrid-Interpolation)"
   ]
  },
  {
   "cell_type": "markdown",
   "metadata": {},
   "source": [
    "The **interpolation in 2D** is\n",
    "\n",
    "\\begin{align}\n",
    "v_{(2i,2j),f} &= v_{(i,j),c} \\texttt{ for } \\left\\{ 0 \\le i,j \\le N_{x,c}-1 \\right.\\\\\n",
    "v_{(2i+1,2j),f} &= \\frac{1}{2}\\left(v_{(i,j),c}+v_{(i+1,j),c} \\right) \n",
    "\\texttt{ for }  \\left\\lbrace \\begin{matrix} 0 \\le i \\le N_{x,c}-2 \\\\ 0 \\le j \\le N_{x,c}-1 \\end{matrix} \\right .\\\\\n",
    "v_{(2i,2j+1),f} &= \\frac{1}{2}\\left(v_{(i,j),c}+v_{(i,j+1),c} \\right) \\texttt{ for } \\left\\lbrace \\begin{matrix} 0 \\le i \\le N_{x,c}-1 \\\\ 0 \\le j \\le N_{x,c}-2 \\end{matrix} \\right.\\\\\n",
    "v_{(2i+1,2j+1),f} &= \\frac{1}{4}\\left(v_{(i,j),c}+v_{(i+1,j),c}+v_{(i,j+1),c}+v_{(i+1,j+1),c}\\right) \\texttt{ for } \\left\\lbrace 0 \\le i,j \\le N_{x,c}-2 \\right.\n",
    "\\end{align}"
   ]
  },
  {
   "cell_type": "code",
   "execution_count": null,
   "metadata": {
    "collapsed": false
   },
   "outputs": [],
   "source": [
    "# %load snippets/guvectorize/interpolation.py"
   ]
  },
  {
   "cell_type": "code",
   "execution_count": null,
   "metadata": {
    "collapsed": true
   },
   "outputs": [],
   "source": [
    "y = z"
   ]
  },
  {
   "cell_type": "code",
   "execution_count": null,
   "metadata": {
    "collapsed": false
   },
   "outputs": [],
   "source": [
    "x = numpy.ones((y.shape[0]*2, y.shape[1]*2)) * y.min()\n",
    "interpolate_2d_gvec(y, numpy.empty(x.shape[0]), x)\n",
    "y = x.copy()\n",
    "\n",
    "pyplot.figure(figsize=(8,8))\n",
    "pyplot.imshow(x, interpolation='none', cmap=cm.viridis)\n",
    "pyplot.colorbar();"
   ]
  },
  {
   "cell_type": "code",
   "execution_count": null,
   "metadata": {
    "collapsed": false
   },
   "outputs": [],
   "source": [
    "%%timeit\n",
    "x = numpy.zeros((y.shape[0]*2, y.shape[1]*2))\n",
    "interpolate_2d_gvec(y, numpy.empty(x.shape[0]), x)"
   ]
  },
  {
   "cell_type": "markdown",
   "metadata": {},
   "source": [
    "## Larger arrays"
   ]
  },
  {
   "cell_type": "code",
   "execution_count": null,
   "metadata": {
    "collapsed": true
   },
   "outputs": [],
   "source": [
    "z = numpy.random.random((10000, 10000))"
   ]
  },
  {
   "cell_type": "code",
   "execution_count": null,
   "metadata": {
    "collapsed": false
   },
   "outputs": [],
   "source": [
    "%%timeit\n",
    "y = numpy.zeros_like(z[::2,::2])\n",
    "restrict_2d_gvec(z, numpy.empty(y.shape[0]), y)"
   ]
  }
 ],
 "metadata": {
  "kernelspec": {
   "display_name": "Python 3",
   "language": "python",
   "name": "python3"
  },
  "language_info": {
   "codemirror_mode": {
    "name": "ipython",
    "version": 3
   },
   "file_extension": ".py",
   "mimetype": "text/x-python",
   "name": "python",
   "nbconvert_exporter": "python",
   "pygments_lexer": "ipython3",
   "version": "3.5.1"
  }
 },
 "nbformat": 4,
 "nbformat_minor": 0
}
