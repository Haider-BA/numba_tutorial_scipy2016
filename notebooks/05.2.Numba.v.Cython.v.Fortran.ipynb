{
 "cells": [
  {
   "cell_type": "code",
   "execution_count": null,
   "metadata": {
    "collapsed": true
   },
   "outputs": [],
   "source": [
    "import numpy\n",
    "import pickle"
   ]
  },
  {
   "cell_type": "code",
   "execution_count": null,
   "metadata": {
    "collapsed": false
   },
   "outputs": [],
   "source": [
    "from snippets.ns_helper import cavity_flow, velocity_term"
   ]
  },
  {
   "cell_type": "code",
   "execution_count": null,
   "metadata": {
    "collapsed": true
   },
   "outputs": [],
   "source": [
    "def run_cavity():\n",
    "    nx = 41\n",
    "    with open('IC.pickle', 'rb') as f:\n",
    "        u, v, p, b = pickle.load(f)\n",
    "\n",
    "    dx = 2 / (nx - 1)\n",
    "    dt = .005\n",
    "    nt = 1000\n",
    "    \n",
    "    u, v, p = cavity_flow(u, v, p, nt, dt, dx, \n",
    "                         velocity_term, \n",
    "                         pressure_poisson, \n",
    "                         rtol=1e-4)\n",
    "    \n",
    "    return u, v, p"
   ]
  },
  {
   "cell_type": "code",
   "execution_count": null,
   "metadata": {
    "collapsed": true
   },
   "outputs": [],
   "source": [
    "with open('numpy_ans.pickle', 'rb') as f:\n",
    "    u, v, p = pickle.load(f)"
   ]
  },
  {
   "cell_type": "markdown",
   "metadata": {},
   "source": [
    "## Other options for accelerating Python code"
   ]
  },
  {
   "cell_type": "markdown",
   "metadata": {},
   "source": [
    "## Cython"
   ]
  },
  {
   "cell_type": "code",
   "execution_count": null,
   "metadata": {
    "collapsed": false
   },
   "outputs": [],
   "source": [
    "%load_ext cython"
   ]
  },
  {
   "cell_type": "code",
   "execution_count": null,
   "metadata": {
    "collapsed": false
   },
   "outputs": [],
   "source": [
    "%%cython\n",
    "cimport numpy\n",
    "cimport cython\n",
    "\n",
    "import numpy\n",
    "\n",
    "from libc.math cimport sqrt\n",
    "\n",
    "@cython.boundscheck(False)\n",
    "def pressure_poisson(numpy.ndarray[numpy.float_t, ndim=2] p,\n",
    "                     numpy.ndarray[numpy.float_t, ndim=2] b,\n",
    "                     double l2_target):\n",
    "\n",
    "    cdef numpy.ndarray[numpy.float_t, ndim=2] pn = numpy.zeros_like(p)\n",
    "    cdef int i, j, n\n",
    "    cdef double iter_diff\n",
    "    cdef int I = b.shape[0]\n",
    "    cdef int J = b.shape[1]\n",
    "\n",
    "    iter_diff = l2_target + 1\n",
    "\n",
    "    n = 0\n",
    "    while iter_diff > l2_target and n <= 500:\n",
    "        pn = p.copy()\n",
    "        for i in range(1, I - 1):\n",
    "            for j in range(1, J - 1):\n",
    "                p[i, j] = (.25 * (pn[i, j + 1] +\n",
    "                                  pn[i, j - 1] +\n",
    "                                  pn[i + 1, j] +\n",
    "                                  pn[i - 1, j]) -\n",
    "                                  b[i, j])\n",
    "\n",
    "        for i in range(I):\n",
    "            p[i, 0] = p[i, 1]\n",
    "            p[i, -1] = 0\n",
    "\n",
    "        for j in range(J):\n",
    "            p[0, j] = p[1, j]\n",
    "            p[-1, j] = p[-2, j]\n",
    "\n",
    "        if n % 10 == 0:\n",
    "            iter_diff = sqrt(numpy.sum((p - pn)**2)/numpy.sum(pn**2))\n",
    "\n",
    "        n += 1\n",
    "\n",
    "    return p"
   ]
  },
  {
   "cell_type": "code",
   "execution_count": null,
   "metadata": {
    "collapsed": false
   },
   "outputs": [],
   "source": [
    "%timeit run_cavity()"
   ]
  },
  {
   "cell_type": "code",
   "execution_count": null,
   "metadata": {
    "collapsed": false
   },
   "outputs": [],
   "source": [
    "u_cy, v_cy, p_cy = run_cavity()\n",
    "assert numpy.allclose(u, u_cy)\n",
    "assert numpy.allclose(v, v_cy)\n",
    "assert numpy.allclose(p, p_cy)"
   ]
  },
  {
   "cell_type": "markdown",
   "metadata": {},
   "source": [
    "## Fortran and `f2py`"
   ]
  },
  {
   "cell_type": "code",
   "execution_count": null,
   "metadata": {
    "collapsed": false
   },
   "outputs": [],
   "source": [
    "%%file pressure_poisson_F.f90\n",
    "\n",
    "SUBROUTINE pressure_poisson(p, b, M, N, l2_target)\n",
    "IMPLICIT NONE\n",
    "\n",
    "INTEGER(4), INTENT(IN):: M, N\n",
    "REAL(8), INTENT(IN):: b(M, N), l2_target\n",
    "REAL(8), INTENT(INOUT):: p(M, N)\n",
    "REAL(8):: iter_diff, pn(M, N)\n",
    "INTEGER(4):: c\n",
    "\n",
    "!F2PY intent(inout):: b\n",
    "!F2PY intent(inplace, out):: p\n",
    "!F2PY real(8), optional, intent(in):: l2_target=1E-4\n",
    "!F2PY integer(4), intent(hide), depend(p):: m=shape(p, 0), n=shape(p, 1)\n",
    "\n",
    "    c = 0\n",
    "    iter_diff = l2_target + 1\n",
    "    \n",
    "    DO WHILE(iter_diff > l2_target)\n",
    "        pn = p\n",
    "        p(2:M-1, 2:N-1) = .25 * (pn(2:M-1, 3:N) + pn(2:M-1, 1:N-2) + &\n",
    "                                 pn(3:M, 2:N-1) + pn(1:M-2, 2:N-1)) - b(2:M-1, 2:N-1)\n",
    "        \n",
    "        p(1:M, 1) = p(1:M, 2)\n",
    "        p(1:M, N) = 0\n",
    "        p(1, 1:N) = p(2, 1:N)\n",
    "        p(M, 1:N) = p(M - 1, 1:N)\n",
    "        \n",
    "        \n",
    "        IF (MOD(c, 10) .eq. 0) iter_diff = DSQRT(SUM((p - pn)**2)/SUM(pn**2))\n",
    "        IF (c .eq. 500) EXIT\n",
    "        \n",
    "        c = c + 1\n",
    "    ENDDO\n",
    "    \n",
    "END SUBROUTINE pressure_poisson"
   ]
  },
  {
   "cell_type": "code",
   "execution_count": null,
   "metadata": {
    "collapsed": false
   },
   "outputs": [],
   "source": [
    "!f2py3 -c --fcompiler=gnu95 \\\n",
    "      --f90flags= --f77flags= --opt=\"-m64 -O4\" \\\n",
    "      -m pressure_poisson_F pressure_poisson_F.f90 \\\n",
    "      -DF2PY_REPORT_ON_ARRAY_COPY=1 \\\n",
    "      > /dev/null"
   ]
  },
  {
   "cell_type": "code",
   "execution_count": null,
   "metadata": {
    "collapsed": true
   },
   "outputs": [],
   "source": [
    "from pressure_poisson_F import pressure_poisson"
   ]
  },
  {
   "cell_type": "code",
   "execution_count": null,
   "metadata": {
    "collapsed": false
   },
   "outputs": [],
   "source": [
    "%timeit run_cavity()"
   ]
  },
  {
   "cell_type": "code",
   "execution_count": null,
   "metadata": {
    "collapsed": false
   },
   "outputs": [],
   "source": [
    "u_for, v_for, p_for = run_cavity()\n",
    "assert numpy.allclose(u, u_for)\n",
    "assert numpy.allclose(v, v_for)\n",
    "assert numpy.allclose(p, p_for)"
   ]
  }
 ],
 "metadata": {
  "kernelspec": {
   "display_name": "Python 3",
   "language": "python",
   "name": "python3"
  },
  "language_info": {
   "codemirror_mode": {
    "name": "ipython",
    "version": 3
   },
   "file_extension": ".py",
   "mimetype": "text/x-python",
   "name": "python",
   "nbconvert_exporter": "python",
   "pygments_lexer": "ipython3",
   "version": "3.5.1"
  }
 },
 "nbformat": 4,
 "nbformat_minor": 0
}
