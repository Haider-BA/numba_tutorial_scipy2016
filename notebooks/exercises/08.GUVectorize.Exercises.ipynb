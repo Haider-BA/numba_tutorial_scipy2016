{
 "cells": [
  {
   "cell_type": "markdown",
   "metadata": {},
   "source": [
    "# Exercise: Cheating input/output layouts"
   ]
  },
  {
   "cell_type": "markdown",
   "metadata": {},
   "source": [
    "The output layout of a GUfunc has to be in some way a combination of the input layouts.  That is, the input/output layout\n",
    "\n",
    "```python\n",
    "(m),(n)->(r)\n",
    "```\n",
    "\n",
    "doesn't work.  But sometimes that's what needs to happen, so how to get around this limitation?  \n",
    "\n",
    "Try it out!\n",
    "\n",
    "Uncomment the `guvectorize` decorator, add a signature and make whatever changes you need to to make it work"
   ]
  },
  {
   "cell_type": "code",
   "execution_count": null,
   "metadata": {
    "collapsed": true
   },
   "outputs": [],
   "source": [
    "import numpy"
   ]
  },
  {
   "cell_type": "code",
   "execution_count": null,
   "metadata": {
    "collapsed": false
   },
   "outputs": [],
   "source": [
    "from numba import guvectorize"
   ]
  },
  {
   "cell_type": "code",
   "execution_count": null,
   "metadata": {
    "collapsed": true
   },
   "outputs": [],
   "source": [
    "#@guvectorize\n",
    "def return_half_array(in_array, out_array):\n",
    "    for i in range(in_array.shape[0] // 2):\n",
    "        out_array[i] = in_array[i]"
   ]
  },
  {
   "cell_type": "code",
   "execution_count": null,
   "metadata": {
    "collapsed": true
   },
   "outputs": [],
   "source": [
    "in_array = numpy.arange(20)\n",
    "out_array = numpy.empty(10)"
   ]
  },
  {
   "cell_type": "code",
   "execution_count": null,
   "metadata": {
    "collapsed": true
   },
   "outputs": [],
   "source": [
    "return_half_array(in_array, out_array)"
   ]
  },
  {
   "cell_type": "markdown",
   "metadata": {},
   "source": [
    "# Exercise: Multigrid Restriction\n",
    "\n",
    "Multigrid is a method used to solve linear systems quickly.  I'm going to be very light on details here, but suffice it to say that one of the major components of this involves repeatedly coarsening and interpolating values from finer to coarser grids and back.  \n",
    "\n",
    "Consider the figure below and how we can populate a coarse grid using a weighted average of values from the fine grid."
   ]
  },
  {
   "cell_type": "markdown",
   "metadata": {},
   "source": [
    "<img src='../figures/2d_full_weighting.svg' width=600>"
   ]
  },
  {
   "cell_type": "markdown",
   "metadata": {},
   "source": [
    "<img src='../figures/2d_full_weighting_detail.svg' width=600>"
   ]
  },
  {
   "cell_type": "markdown",
   "metadata": {},
   "source": [
    "In 2D, the full weighting restriction operator is given as\n",
    "\n",
    "\\begin{align}\n",
    "v_{(i,j),c} &=\\frac{1}{16} \\left(v_{(2i-1,2j-1),f} +v_{(2i-1,2j+1),f} +v_{(2i+1,2j-1),f}  +v_{(2i+1,2j+1),f} \\right)\\notag \\\\\n",
    "&\\ + \\frac{1}{8} \\left(v_{(2i,2j-1),f} + v_{(2i,2j+1),f} +v_{(2i-1,2j),f}  +v_{(2i+1,2j),f} \\right) \\\\\n",
    "&\\ + \\frac{1}{4} v_{(2i,2j),f} \\\\\n",
    "& \\texttt{ for } \\left\\lbrace 1 \\le i,j \\le N_{x,c}-2 \\right.\n",
    "\\end{align}\n",
    "\n",
    "where $v_c$ is the coarse grid and $v_f$ is the fine grid\n",
    "\n",
    "On the boundaries of the coarse grid, just directly inject the corresponding fine-grid boundary value"
   ]
  },
  {
   "cell_type": "code",
   "execution_count": null,
   "metadata": {
    "collapsed": true
   },
   "outputs": [],
   "source": [
    "def restrict_2d_gvec():"
   ]
  },
  {
   "cell_type": "markdown",
   "metadata": {},
   "source": [
    "Want to check your answer? If you use"
   ]
  },
  {
   "cell_type": "code",
   "execution_count": null,
   "metadata": {
    "collapsed": false
   },
   "outputs": [],
   "source": [
    "fine = numpy.arange(100).reshape(10,10)\n",
    "coarse = numpy.zeros((5, 5))"
   ]
  },
  {
   "cell_type": "markdown",
   "metadata": {},
   "source": [
    "You should end up with \n",
    "\n",
    "```\n",
    "array([[  0.  ,   2.  ,   4.  ,   6.  ,   8.  ],\n",
    "       [ 20.  ,  19.25,  21.  ,  22.75,  29.  ],\n",
    "       [ 40.  ,  36.75,  38.5 ,  40.25,  49.  ],\n",
    "       [ 60.  ,  54.25,  56.  ,  57.75,  69.  ],\n",
    "       [ 90.  ,  92.  ,  94.  ,  96.  ,  98.  ]])\n",
    "       ```"
   ]
  },
  {
   "cell_type": "markdown",
   "metadata": {},
   "source": [
    "# Exercise: Multigrid Interpolation\n",
    "\n",
    "We can go from fine to coarse -- now to go from coarse to fine.  \n",
    "\n",
    "How does that work?  More weighted averages.  In the figure below, the circles represent values on the coarse array, squares and triangles are interpolated values on the fine array.  The arrows indicate the weighting to use in calculating the fine array values.\n",
    "\n",
    "<img src=\"../figures/2d_interpolation.svg\" width=500>"
   ]
  },
  {
   "cell_type": "markdown",
   "metadata": {},
   "source": [
    "The **interpolation in 2D** is\n",
    "\n",
    "\\begin{align}\n",
    "v_{(2i,2j),f} &= v_{(i,j),c} \\texttt{ for } \\left\\{ 0 \\le i,j \\le N_{x,c}-1 \\right.\\\\\n",
    "v_{(2i+1,2j),f} &= \\frac{1}{2}\\left(v_{(i,j),c}+v_{(i+1,j),c} \\right) \n",
    "\\texttt{ for }  \\left\\lbrace \\begin{matrix} 0 \\le i \\le N_{x,c}-2 \\\\ 0 \\le j \\le N_{x,c}-1 \\end{matrix} \\right .\\\\\n",
    "v_{(2i,2j+1),f} &= \\frac{1}{2}\\left(v_{(i,j),c}+v_{(i,j+1),c} \\right) \\texttt{ for } \\left\\lbrace \\begin{matrix} 0 \\le i \\le N_{x,c}-1 \\\\ 0 \\le j \\le N_{x,c}-2 \\end{matrix} \\right.\\\\\n",
    "v_{(2i+1,2j+1),f} &= \\frac{1}{4}\\left(v_{(i,j),c}+v_{(i+1,j),c}+v_{(i,j+1),c}+v_{(i+1,j+1),c}\\right) \\texttt{ for } \\left\\lbrace 0 \\le i,j \\le N_{x,c}-2 \\right.\n",
    "\\end{align}\n",
    "\n",
    "Don't worry about boundaries for interpolation."
   ]
  },
  {
   "cell_type": "code",
   "execution_count": null,
   "metadata": {
    "collapsed": true
   },
   "outputs": [],
   "source": [
    "def interpolate_2d_vec():"
   ]
  }
 ],
 "metadata": {
  "kernelspec": {
   "display_name": "Python 3",
   "language": "python",
   "name": "python3"
  },
  "language_info": {
   "codemirror_mode": {
    "name": "ipython",
    "version": 3
   },
   "file_extension": ".py",
   "mimetype": "text/x-python",
   "name": "python",
   "nbconvert_exporter": "python",
   "pygments_lexer": "ipython3",
   "version": "3.5.1"
  }
 },
 "nbformat": 4,
 "nbformat_minor": 0
}
